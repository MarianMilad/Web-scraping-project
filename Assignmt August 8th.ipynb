{
 "cells": [
  {
   "cell_type": "code",
   "execution_count": 31,
   "id": "865d40f0-1045-4631-b564-9696e37d0866",
   "metadata": {},
   "outputs": [],
   "source": [
    "import requests\n",
    "from bs4 import BeautifulSoup\n",
    "import csv\n",
    "import json\n"
   ]
  },
  {
   "cell_type": "code",
   "execution_count": 32,
   "id": "fa1a7242-3884-488b-af5f-0b6669c7568e",
   "metadata": {},
   "outputs": [
    {
     "name": "stdout",
     "output_type": "stream",
     "text": [
      "<!DOCTYPE html>\n",
      "\n",
      "<html>\n",
      "\n",
      "    <head>\n",
      "        <title>Web Scraping Task with Form</title>\n",
      "\n",
      "         <style>\n",
      "        body {\n",
      "            font-family: Arial, sans-serif;\n",
      "            margin: 20px;\n",
      "            background-color: #f5f5f5;\n",
      "        }\n",
      "\n",
      "        h1 {\n",
      "            color: darkred;\n",
      "            text-align: center;\n",
      "        }\n",
      "\n",
      "        h2 {\n",
      "            color: darkblue;\n",
      "            font-style: italic;\n",
      "        }\n",
      "\n",
      "        p {\n",
      "            color: #555;\n",
      "            font-size: 14px;\n",
      "        }\n",
      "\n",
      "        img {\n",
      "            width: 250px;\n",
      "            height: auto;\n",
      "            border-radius: 10px;\n",
      "        }\n",
      "\n",
      "        table {\n",
      "            width: 100%;\n",
      "            border-collapse: collapse;\n",
      "            margin: 20px 0;\n",
      "        }\n",
      "\n",
      "        table, th, td {\n",
      "            border: 1px solid #ccc;\n",
      "        }\n",
      "\n",
      "        th {\n",
      "            background-color: #333;\n",
      "            color: white;\n",
      "            padding: 10px;\n",
      "        }\n",
      "\n",
      "        td {\n",
      "            text-align: center;\n",
      "            padding: 10px;\n",
      "        }\n",
      "\n",
      "        .btn {\n",
      "            background-color: darkgreen;\n",
      "            color: white;\n",
      "            border: none;\n",
      "            padding: 10px 20px;\n",
      "            cursor: pointer;\n",
      "            text-transform: uppercase;\n",
      "            font-weight: bold;\n",
      "        }\n",
      "\n",
      "        .btn:hover {\n",
      "            background-color: green;\n",
      "        }\n",
      "\n",
      "        ul {\n",
      "            list-style-type: square;\n",
      "        }\n",
      "\n",
      "        iframe {\n",
      "            display: block;\n",
      "            margin: 20px auto;\n",
      "            border: none;\n",
      "        }\n",
      "\n",
      "        .footer {\n",
      "            background-color: #333;\n",
      "            color: white;\n",
      "            text-align: center;\n",
      "            padding: 10px 0;\n",
      "            margin-top: 30px;\n",
      "        }\n",
      "\n",
      "        .highlight {\n",
      "            background-color: yellow;\n",
      "            font-weight: bold;\n",
      "        }\n",
      "\n",
      "        form {\n",
      "            margin: 20px 0;\n",
      "            background-color: #fff;\n",
      "            padding: 20px;\n",
      "            border: 1px solid #ccc;\n",
      "            border-radius: 5px;\n",
      "        }\n",
      "\n",
      "        form input, form select, form button {\n",
      "            display: block;\n",
      "            margin: 10px 0;\n",
      "            padding: 10px;\n",
      "            width: 100%;\n",
      "            max-width: 400px;\n",
      "            border: 1px solid #ccc;\n",
      "            border-radius: 5px;\n",
      "        }\n",
      "\n",
      "        .products {\n",
      "            display: flex;\n",
      "            flex-wrap: wrap;\n",
      "            justify-content: center;\n",
      "            gap: 20px;\n",
      "            margin-top: 30px;\n",
      "        }\n",
      "\n",
      "        .product-card {\n",
      "            width: 250px;\n",
      "            border: 1px solid #ddd;\n",
      "            border-radius: 8px;\n",
      "            background-color: #fff;\n",
      "            box-shadow: 0 4px 6px rgba(0, 0, 0, 0.1);\n",
      "            text-align: center;\n",
      "            overflow: hidden;\n",
      "            transition: transform 0.3s ease, box-shadow 0.3s ease;\n",
      "        }\n",
      "\n",
      "        .product-card:hover {\n",
      "            transform: translateY(-5px);\n",
      "            box-shadow: 0 8px 12px rgba(0, 0, 0, 0.2);\n",
      "        }\n",
      "\n",
      "        .product-card img {\n",
      "            width: 100%;\n",
      "            height: 150px;\n",
      "            object-fit: cover;\n",
      "        }\n",
      "\n",
      "        .product-card .name {\n",
      "            font-size: 18px;\n",
      "            font-weight: bold;\n",
      "            margin: 15px 0 5px;\n",
      "            color: #333;\n",
      "        }\n",
      "\n",
      "        .product-card .price {\n",
      "            font-size: 16px;\n",
      "            color: #28a745;\n",
      "            margin: 5px 0;\n",
      "        }\n",
      "\n",
      "        .product-card .colors {\n",
      "            font-size: 14px;\n",
      "            color: #666;\n",
      "            margin-bottom: 15px;\n",
      "        }\n",
      "\n",
      "        .product-card button {\n",
      "            background-color: #007bff;\n",
      "            color: white;\n",
      "            border: none;\n",
      "            padding: 10px 20px;\n",
      "            margin: 10px 0;\n",
      "            cursor: pointer;\n",
      "            border-radius: 5px;\n",
      "            font-size: 14px;\n",
      "            transition: background-color 0.3s ease;\n",
      "        }\n",
      "\n",
      "        .product-card button:hover {\n",
      "            background-color: #0056b3;\n",
      "        }\n",
      "    </style>\n",
      "    </head>\n",
      "\n",
      "    <body>\n",
      "        <h1>Web Scraping Practice</h1>\n",
      "        <p>Welcome to the web scraping task! Use your skills to extract the required data from this page.</p>\n",
      "\n",
      "        <h2>Available Products</h2>\n",
      "        <ul>\n",
      "            <li class=\"highlight\">Laptop</li>\n",
      "            <li>Smartphone</li>\n",
      "            <li>Tablet</li>\n",
      "            <li>Smartwatch</li>\n",
      "        </ul>\n",
      "\n",
      "        <h2>Product Table</h2>\n",
      "        <table>\n",
      "            <tr>\n",
      "                <th>Product</th>\n",
      "                <th>Price</th>\n",
      "                <th>In Stock</th>\n",
      "            </tr>\n",
      "            <tr>\n",
      "                <td>Laptop</td>\n",
      "                <td>$1000</td>\n",
      "                <td>Yes</td>\n",
      "            </tr>\n",
      "            <tr>\n",
      "                <td>Smartphone</td>\n",
      "                <td>$800</td>\n",
      "                <td>No</td>\n",
      "            </tr>\n",
      "            <tr>\n",
      "                <td>Tablet</td>\n",
      "                <td>$500</td>\n",
      "                <td>Yes</td>\n",
      "            </tr>\n",
      "        </table>\n",
      "\n",
      "        <h2>Watch This Video</h2>\n",
      "        <iframe width=\"560\" height=\"315\" src=\"https://www.youtube.com/watch?v=ujf9RNuBdCU\"></iframe>\n",
      "        \n",
      "        \n",
      "\n",
      "        \n",
      "        <h2>Contact Us</h2>\n",
      "        <form>\n",
      "            <label for=\"username\">Username:</label>\n",
      "            <input type=\"text\" id=\"username\" name=\"username\" placeholder=\"Enter your username\">\n",
      "\n",
      "            <label for=\"password\">Password:</label>\n",
      "            <input type=\"password\" id=\"password\" name=\"password\" placeholder=\"Enter your password\">\n",
      "\n",
      "            <label for=\"options\">Choose an option:</label>\n",
      "            <select id=\"options\" name=\"options\">\n",
      "                <option value=\"option1\">Option 1</option>\n",
      "                <option value=\"option2\">Option 2</option>\n",
      "                <option value=\"option3\">Option 3</option>\n",
      "            </select>\n",
      "\n",
      "            <label>\n",
      "                <input type=\"checkbox\" name=\"terms\"> I agree to the terms and conditions\n",
      "            </label>\n",
      "\n",
      "            <input type=\"submit\" value=\"Submit\">\n",
      "        </form>\n",
      "\n",
      "    <h2>Product Information</h2>\n",
      "    <div class=\"book-products\" style=\"display: flex; justify-content: space-around; margin-top: 20px;\">\n",
      "        <div style=\"text-align: center; width: 200px; border: 1px solid #ddd; padding: 10px; border-radius: 5px;\">\n",
      "            <img src=\"http://books.toscrape.com/media/cache/26/0c/260c6ae16bce31c8f8c95daddd9f4a1c.jpg\" alt=\"Sharp Objects\" style=\"width: 100%; height: auto; border-radius: 5px;\">\n",
      "            <p><strong>Sharp Objects</strong></p>\n",
      "            <p style=\"color: green;\">£47.82</p>\n",
      "            <p style=\"color: green;\">✔ In stock</p>\n",
      "            <button style=\"background-color: blue; color: white; border: none; padding: 10px 15px; border-radius: 5px; cursor: pointer;\">Add to basket</button>\n",
      "        </div>\n",
      "\n",
      "        <div style=\"text-align: center; width: 200px; border: 1px solid #ddd; padding: 10px; border-radius: 5px;\">\n",
      "            <img src=\"http://books.toscrape.com/media/cache/92/27/92274a95b7c251fea59a2b8a78275ab4.jpg\" alt=\"In a Dark, Dark Wood\" style=\"width: 100%; height: auto; border-radius: 5px;\">\n",
      "            <p><strong>In a Dark, Dark Wood</strong></p>\n",
      "            <p style=\"color: green;\">£19.63</p>\n",
      "            <p style=\"color: green;\">✔ In stock</p>\n",
      "            <button style=\"background-color: blue; color: white; border: none; padding: 10px 15px; border-radius: 5px; cursor: pointer;\">Add to basket</button>\n",
      "        </div>\n",
      "\n",
      "        <div style=\"text-align: center; width: 200px; border: 1px solid #ddd; padding: 10px; border-radius: 5px;\">\n",
      "            <img src=\"http://books.toscrape.com/media/cache/c0/59/c05972805aa7201171b8fc71a5b00292.jpg\" alt=\"The Past Never Ends\" style=\"width: 100%; height: auto; border-radius: 5px;\">\n",
      "            <p><strong>The Past Never Ends</strong></p>\n",
      "            <p style=\"color: green;\">£56.50</p>\n",
      "            <p style=\"color: green;\">✔ In stock</p>\n",
      "            <button style=\"background-color: blue; color: white; border: none; padding: 10px 15px; border-radius: 5px; cursor: pointer;\">Add to basket</button>\n",
      "        </div>\n",
      "\n",
      "        <div style=\"text-align: center; width: 200px; border: 1px solid #ddd; padding: 10px; border-radius: 5px;\">\n",
      "            <img src=\"http://books.toscrape.com/media/cache/97/27/97275841c81e66d53bf9313cba06f23e.jpg\" alt=\"A Murder in Time\" style=\"width: 100%; height: auto; border-radius: 5px;\">\n",
      "            <p><strong>A Murder in Time</strong></p>\n",
      "            <p style=\"color: green;\">£16.64</p>\n",
      "            <p style=\"color: green;\"> Out stock</p>\n",
      "            <button style=\"background-color: blue; color: white; border: none; padding: 10px 15px; border-radius: 5px; cursor: pointer;\">Add to basket</button>\n",
      "        </div>\n",
      "    </div>\n",
      "\n",
      "    \n",
      "\n",
      "    <h2>Featured Products</h2>\n",
      "    <div class=\"products\">\n",
      "        <div class=\"product-card\" data-id=\"101\">\n",
      "            <img src=\"https://via.placeholder.com/250x150?text=Product+1\" alt=\"Wireless Headphones\">\n",
      "            <p class=\"name\">Wireless Headphones</p>\n",
      "            <p class=\"price\" style=\"display: none;\">$49.99</p>\n",
      "            <p class=\"colors\">Available colors: Black, White, Blue</p>\n",
      "            <button>Add to Basket</button>\n",
      "        </div>\n",
      "        <div class=\"product-card\" data-id=\"102\">\n",
      "            <img src=\"https://via.placeholder.com/250x150?text=Product+2\" alt=\"Smart Speaker\">\n",
      "            <p class=\"name\">Smart Speaker</p>\n",
      "            <p class=\"price\" style=\"display: none;\">$89.99</p>\n",
      "            <p class=\"colors\">Available colors: Grey, Black</p>\n",
      "            <button>Add to Basket</button>\n",
      "        </div>\n",
      "        <div class=\"product-card\" data-id=\"103\">\n",
      "            <img src=\"https://via.placeholder.com/250x150?text=Product+3\" alt=\"Smart Watch\">\n",
      "            <p class=\"name\">Smart Watch</p>\n",
      "            <p class=\"price\" style=\"display: none;\">$149.99</p>\n",
      "            <p class=\"colors\">Available colors: Black, Silver, Gold</p>\n",
      "            <button>Add to Basket</button>\n",
      "        </div>\n",
      "    </div>\n",
      "\n",
      "    <div class=\"footer\">\n",
      "            <p>&copy; 2024 Web Scraping Practice. All Rights Reserved.</p>\n",
      "        </div>\n",
      "    </body>\n",
      "</html>\n",
      "\n"
     ]
    }
   ],
   "source": [
    "url= \"https://baraasalout.github.io/test.html\"\n",
    "response = requests.get(url)\n",
    "print(response.text)"
   ]
  },
  {
   "cell_type": "code",
   "execution_count": 4,
   "id": "c6c81a6b-cac8-4008-a9e5-80de64c9207b",
   "metadata": {},
   "outputs": [
    {
     "data": {
      "text/plain": [
       "str"
      ]
     },
     "execution_count": 4,
     "metadata": {},
     "output_type": "execute_result"
    }
   ],
   "source": [
    "type(response.text)"
   ]
  },
  {
   "cell_type": "code",
   "execution_count": 33,
   "id": "a0844bc2-9611-4211-9712-a894ce464042",
   "metadata": {},
   "outputs": [],
   "source": [
    "soup = BeautifulSoup( response.text, \"html.parser\")"
   ]
  },
  {
   "cell_type": "code",
   "execution_count": 7,
   "id": "cdfca0f5-bc66-4e15-ac3e-1daa54cf146f",
   "metadata": {},
   "outputs": [
    {
     "data": {
      "text/plain": [
       "<p>Welcome to the web scraping task! Use your skills to extract the required data from this page.</p>"
      ]
     },
     "execution_count": 7,
     "metadata": {},
     "output_type": "execute_result"
    }
   ],
   "source": [
    "Paragraph = soup.find(\"p\")\n",
    "Paragraph"
   ]
  },
  {
   "cell_type": "code",
   "execution_count": null,
   "id": "3f41a7e3-9bc4-4359-b066-b05e8523b96e",
   "metadata": {},
   "outputs": [],
   "source": [
    "#Extract all headings h1, h2\n"
   ]
  },
  {
   "cell_type": "code",
   "execution_count": 10,
   "id": "f8658433-1233-4439-aa24-4e8a3a230aaf",
   "metadata": {},
   "outputs": [
    {
     "data": {
      "text/plain": [
       "[<h1>Web Scraping Practice</h1>]"
      ]
     },
     "execution_count": 10,
     "metadata": {},
     "output_type": "execute_result"
    }
   ],
   "source": [
    "all_header = soup.find_all(\"h1\")\n",
    "all"
   ]
  },
  {
   "cell_type": "code",
   "execution_count": 11,
   "id": "d9d0ad50-c184-4b31-a563-53aba551f126",
   "metadata": {},
   "outputs": [
    {
     "data": {
      "text/plain": [
       "[<h2>Available Products</h2>,\n",
       " <h2>Product Table</h2>,\n",
       " <h2>Watch This Video</h2>,\n",
       " <h2>Contact Us</h2>,\n",
       " <h2>Product Information</h2>,\n",
       " <h2>Featured Products</h2>]"
      ]
     },
     "execution_count": 11,
     "metadata": {},
     "output_type": "execute_result"
    }
   ],
   "source": [
    "all_header = soup.find_all(\"h2\")\n",
    "all_header"
   ]
  },
  {
   "cell_type": "code",
   "execution_count": null,
   "id": "a82c92b4-4119-4f69-bb4c-caaa05c2b5b4",
   "metadata": {},
   "outputs": [],
   "source": [
    "#Extract all paragraph"
   ]
  },
  {
   "cell_type": "code",
   "execution_count": 12,
   "id": "ca7f9b91-43bb-427e-9c09-b16824f471ba",
   "metadata": {},
   "outputs": [
    {
     "data": {
      "text/plain": [
       "[<p>Welcome to the web scraping task! Use your skills to extract the required data from this page.</p>,\n",
       " <p><strong>Sharp Objects</strong></p>,\n",
       " <p style=\"color: green;\">£47.82</p>,\n",
       " <p style=\"color: green;\">✔ In stock</p>,\n",
       " <p><strong>In a Dark, Dark Wood</strong></p>,\n",
       " <p style=\"color: green;\">£19.63</p>,\n",
       " <p style=\"color: green;\">✔ In stock</p>,\n",
       " <p><strong>The Past Never Ends</strong></p>,\n",
       " <p style=\"color: green;\">£56.50</p>,\n",
       " <p style=\"color: green;\">✔ In stock</p>,\n",
       " <p><strong>A Murder in Time</strong></p>,\n",
       " <p style=\"color: green;\">£16.64</p>,\n",
       " <p style=\"color: green;\"> Out stock</p>,\n",
       " <p class=\"name\">Wireless Headphones</p>,\n",
       " <p class=\"price\" style=\"display: none;\">$49.99</p>,\n",
       " <p class=\"colors\">Available colors: Black, White, Blue</p>,\n",
       " <p class=\"name\">Smart Speaker</p>,\n",
       " <p class=\"price\" style=\"display: none;\">$89.99</p>,\n",
       " <p class=\"colors\">Available colors: Grey, Black</p>,\n",
       " <p class=\"name\">Smart Watch</p>,\n",
       " <p class=\"price\" style=\"display: none;\">$149.99</p>,\n",
       " <p class=\"colors\">Available colors: Black, Silver, Gold</p>,\n",
       " <p>© 2024 Web Scraping Practice. All Rights Reserved.</p>]"
      ]
     },
     "execution_count": 12,
     "metadata": {},
     "output_type": "execute_result"
    }
   ],
   "source": [
    "all_paragraph = soup.find_all(\"p\")\n",
    "all_paragraph\n"
   ]
  },
  {
   "cell_type": "code",
   "execution_count": null,
   "id": "2cf33b12-d179-4098-b2e4-83d8e5e48533",
   "metadata": {},
   "outputs": [],
   "source": [
    "#Extract all Li tags"
   ]
  },
  {
   "cell_type": "code",
   "execution_count": 13,
   "id": "126dbf0c-abe7-4380-a990-ffe6db77a1f6",
   "metadata": {},
   "outputs": [
    {
     "data": {
      "text/plain": [
       "[<li class=\"highlight\">Laptop</li>,\n",
       " <li>Smartphone</li>,\n",
       " <li>Tablet</li>,\n",
       " <li>Smartwatch</li>]"
      ]
     },
     "execution_count": 13,
     "metadata": {},
     "output_type": "execute_result"
    }
   ],
   "source": [
    "all_li_tags = soup.find_all(\"li\")\n",
    "all_li_tags"
   ]
  },
  {
   "cell_type": "code",
   "execution_count": 35,
   "id": "4febc258-5e13-402c-830f-ae185ca1a8d6",
   "metadata": {},
   "outputs": [
    {
     "name": "stdout",
     "output_type": "stream",
     "text": [
      "[{'type': 'h1', 'content': 'Web Scraping Practice'}, {'type': 'p', 'content': 'Welcome to the web scraping task! Use your skills to extract the required data from this page.'}, {'type': 'h2', 'content': 'Available Products'}, {'type': 'li', 'content': 'Laptop'}, {'type': 'li', 'content': 'Smartphone'}, {'type': 'li', 'content': 'Tablet'}, {'type': 'li', 'content': 'Smartwatch'}, {'type': 'h2', 'content': 'Product Table'}, {'type': 'h2', 'content': 'Watch This Video'}, {'type': 'h2', 'content': 'Contact Us'}, {'type': 'h2', 'content': 'Product Information'}, {'type': 'p', 'content': 'Sharp Objects'}, {'type': 'p', 'content': '£47.82'}, {'type': 'p', 'content': '✔ In stock'}, {'type': 'p', 'content': 'In a Dark, Dark Wood'}, {'type': 'p', 'content': '£19.63'}, {'type': 'p', 'content': '✔ In stock'}, {'type': 'p', 'content': 'The Past Never Ends'}, {'type': 'p', 'content': '£56.50'}, {'type': 'p', 'content': '✔ In stock'}, {'type': 'p', 'content': 'A Murder in Time'}, {'type': 'p', 'content': '£16.64'}, {'type': 'p', 'content': 'Out stock'}, {'type': 'h2', 'content': 'Featured Products'}, {'type': 'p', 'content': 'Wireless Headphones'}, {'type': 'p', 'content': '$49.99'}, {'type': 'p', 'content': 'Available colors: Black, White, Blue'}, {'type': 'p', 'content': 'Smart Speaker'}, {'type': 'p', 'content': '$89.99'}, {'type': 'p', 'content': 'Available colors: Grey, Black'}, {'type': 'p', 'content': 'Smart Watch'}, {'type': 'p', 'content': '$149.99'}, {'type': 'p', 'content': 'Available colors: Black, Silver, Gold'}, {'type': 'p', 'content': '© 2024 Web Scraping Practice. All Rights Reserved.'}]\n"
     ]
    }
   ],
   "source": [
    "#1. Extract Text Data:\n",
    "texts=[]\n",
    "for type in soup.find_all([\"h1\",\"h2\",\"p\",\"li\"]):\n",
    "    texts.append({\"type\": type.name,\"content\":type.get_text(strip = True )})\n",
    "print(texts)"
   ]
  },
  {
   "cell_type": "code",
   "execution_count": null,
   "id": "689714e8-cf6f-45b9-a7fa-52ba3b410dfe",
   "metadata": {},
   "outputs": [],
   "source": []
  },
  {
   "cell_type": "code",
   "execution_count": 36,
   "id": "9059683a-1beb-48de-8193-1ffbeeae9f75",
   "metadata": {},
   "outputs": [],
   "source": [
    "#Save the extracted text data in csv file\n",
    "\n",
    "with open (\"Extract_Text_Data.CSV\", \"w\" ,newline= \"\", encoding=\"utf-8\" ) as f :\n",
    "    writer = csv.DictWriter (f, fieldnames = [\"type\", \"content\"])\n",
    "    writer.writeheader()\n",
    "    writer.writerows(texts)"
   ]
  },
  {
   "cell_type": "code",
   "execution_count": 44,
   "id": "f2018cec-98fd-40fc-b86a-d983fb0b965b",
   "metadata": {},
   "outputs": [
    {
     "name": "stdout",
     "output_type": "stream",
     "text": [
      "[{'product': 'Laptop', 'price': '$1000', 'stock': 'Yes'}, {'product': 'Smartphone', 'price': '$800', 'stock': 'No'}, {'product': 'Tablet', 'price': '$500', 'stock': 'Yes'}]\n"
     ]
    }
   ],
   "source": [
    "#2. Extract Table Data:\n",
    "table = soup.find(\"table\")\n",
    "rows = []\n",
    "for tr in table.find_all(\"tr\")[1:]:\n",
    "    cols = [td.get_text(strip = True ) for td in tr.find_all(\"td\")]\n",
    "    rows.append({\"product\":cols[0],\"price\":cols[1],\"stock\":cols[2]})\n",
    "\n",
    "print(rows)\n",
    "#save data to csv file\n",
    "\n",
    "with open (\"Extract_Table_Data.CSV\", \"w\", newline = \"\",encoding = \"UTF-8\") as f :\n",
    "    writer = csv.DictWriter(f, fieldnames =[\"product\",\"price\",\"stock\"])\n",
    "    writer.writeheader()\n",
    "    writer.writerows(rows)\n",
    "\n",
    "\n"
   ]
  },
  {
   "cell_type": "code",
   "execution_count": 84,
   "id": "aa307bf9-1109-49a1-9ce3-5967190efd01",
   "metadata": {},
   "outputs": [
    {
     "name": "stdout",
     "output_type": "stream",
     "text": [
      "[{'Book Title': 'Sharp Objects', 'price': '£47.82', 'Stock Availability': '✔ In stock', 'Button text': 'Add to basket'}, {'Book Title': 'In a Dark, Dark Wood', 'price': '£19.63', 'Stock Availability': '✔ In stock', 'Button text': 'Add to basket'}, {'Book Title': 'The Past Never Ends', 'price': '£56.50', 'Stock Availability': '✔ In stock', 'Button text': 'Add to basket'}, {'Book Title': 'A Murder in Time', 'price': '£16.64', 'Stock Availability': 'Out stock', 'Button text': 'Add to basket'}]\n"
     ]
    }
   ],
   "source": [
    "#3. Extract Product Information (Cards Section):\n",
    "container = soup.select_one(\".book-products\")\n",
    "books=[]\n",
    "for card in container.find_all(\"div\",recursive=False):\n",
    "    paragraphs = card.find_all(\"p\")\n",
    "    if len(paragraphs)>=3 :\n",
    "        Title = paragraphs[0].get_text (strip = True)\n",
    "        price = paragraphs[1].get_text(strip = True)\n",
    "        Stock = paragraphs[2].get_text(strip = True)\n",
    "        Button = card.find(\"button\").get_text (strip = True)\n",
    "\n",
    "        books.append({\n",
    "            \"Book Title\":Title,\n",
    "            \"price\":price,\n",
    "            \"Stock Availability\":Stock,\n",
    "            \"Button text\": Button\n",
    "        })\n",
    "print(books)\n",
    "\n",
    "with open (\"Product_Information.JSON\",\"w\",encoding=\"UTF-8\") as f:\n",
    "           json.dump(books,f,indent=2)\n"
   ]
  },
  {
   "cell_type": "code",
   "execution_count": 70,
   "id": "de38f717-293c-492e-a644-e506c36d3c1c",
   "metadata": {},
   "outputs": [
    {
     "name": "stdout",
     "output_type": "stream",
     "text": [
      "[{'field name': 'username', 'type': 'text', 'default value': None}, {'field name': 'password', 'type': 'password', 'default value': None}, {'field name': 'terms', 'type': 'checkbox', 'default value': None}, {'field name': None, 'type': 'submit', 'default value': 'Submit'}]\n"
     ]
    }
   ],
   "source": [
    "#4. Extract Form Details:\n",
    "form = soup.find(\"form\")\n",
    "input = []\n",
    "for inp in form.find_all(\"input\"):\n",
    "    input.append({\n",
    "        \"field name\":inp.get(\"name\"),\n",
    "        \"type\":inp.get(\"type\"),\n",
    "        \"default value\":inp.get(\"value\")\n",
    "    })\n",
    "print (input)\n",
    "\n",
    "#save the data in JSON file\n",
    "\n",
    "with open (\"Form.json\",\"w\", encoding = \"UTF-8\") as f:\n",
    "    json.dump(input, f, indent=2)"
   ]
  },
  {
   "cell_type": "code",
   "execution_count": 71,
   "id": "63a35a1f-d7ac-4a09-b9ca-dbc6799edf46",
   "metadata": {},
   "outputs": [],
   "source": [
    "#5. Extract Links and Multimedia:\n",
    "\n",
    "iframe = soup.find(\"iframe\")\n",
    "video_link = iframe.get(\"src\")\n",
    "data = {\"video_src\":video_link}\n",
    "\n",
    "#save it injson file\n",
    "\n",
    "with open (\"video_link.json\",\"w\",encoding = \"UTF-8\") as f:\n",
    "    json.dump(data,f,indent=2)"
   ]
  },
  {
   "cell_type": "code",
   "execution_count": 76,
   "id": "944aa4d6-144d-4f17-95c6-025e7f9a1dff",
   "metadata": {},
   "outputs": [
    {
     "name": "stdout",
     "output_type": "stream",
     "text": [
      "[{'id': '101', 'name': 'Wireless Headphones', 'price': '$49.99', 'colors': 'Available colors: Black, White, Blue'}, {'id': '102', 'name': 'Smart Speaker', 'price': '$89.99', 'colors': 'Available colors: Grey, Black'}, {'id': '103', 'name': 'Smart Watch', 'price': '$149.99', 'colors': 'Available colors: Black, Silver, Gold'}]\n"
     ]
    }
   ],
   "source": [
    "#6- Scraping the \"featured products\" section\n",
    "featured = []\n",
    "\n",
    "for card in soup.select(\".product-card\"):\n",
    "    featured.append({\n",
    "        \"id\":card.get(\"data-id\"),\n",
    "        \"name\":card.select_one(\".name\").get_text( strip = True),\n",
    "        \"price\":card.select_one(\".price\").get_text( strip = True),\n",
    "        \"colors\":card.select_one(\".colors\").get_text(strip = True),\n",
    "    })\n",
    "\n",
    "print(featured)\n",
    "\n",
    "#save it in json file\n",
    "\n",
    "with open (\"featured_products.json\",\"w\",encoding = \"UTF-8\") as f:\n",
    "    json.dump(featured, f, indent=2)"
   ]
  },
  {
   "cell_type": "code",
   "execution_count": null,
   "id": "7a37e5f3-ce7a-401f-86b0-a2eb132d1d56",
   "metadata": {},
   "outputs": [],
   "source": []
  }
 ],
 "metadata": {
  "kernelspec": {
   "display_name": "Python [conda env:base] *",
   "language": "python",
   "name": "conda-base-py"
  },
  "language_info": {
   "codemirror_mode": {
    "name": "ipython",
    "version": 3
   },
   "file_extension": ".py",
   "mimetype": "text/x-python",
   "name": "python",
   "nbconvert_exporter": "python",
   "pygments_lexer": "ipython3",
   "version": "3.13.5"
  }
 },
 "nbformat": 4,
 "nbformat_minor": 5
}
